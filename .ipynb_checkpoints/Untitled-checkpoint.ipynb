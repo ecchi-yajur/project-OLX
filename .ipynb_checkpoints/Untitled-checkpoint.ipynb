{
 "cells": [
  {
   "cell_type": "code",
   "execution_count": 9,
   "metadata": {},
   "outputs": [],
   "source": [
    "import pandas as pd\n",
    "import re\n"
   ]
  },
  {
   "cell_type": "code",
   "execution_count": 43,
   "metadata": {},
   "outputs": [],
   "source": [
    "def ensure_no_phno(string):\n",
    "    regex1 = '\\d[0-9\\.\\s\\,OoIi=\\-\\:\\;\\_]+'\n",
    "    regex2 = '^.*\\b([0-9])*(one|two|three|four|five|six|seven|eight|nine)([0-9])*\\b.+$'\n",
    "    temp2 = re.findall(regex2, str(string))\n",
    "    temp1 = re.findall(regex1, str(string))\n",
    "    #print(temp1)    \n",
    "    #print(temp2)\n",
    "    if temp2 == []:\n",
    "        #print(temp2)\n",
    "        return 0\n",
    "    else :\n",
    "        print(temp2)"
   ]
  },
  {
   "cell_type": "code",
   "execution_count": 44,
   "metadata": {},
   "outputs": [],
   "source": [
    "\n",
    "def check_phno(string):\n",
    "    regex = '\\d[0-9\\.\\s\\,OoIi=\\-\\:\\;\\_]+'\n",
    "    phno = []\n",
    "\n",
    "    temp = re.findall(regex, str(string))\n",
    "    if temp!=[]:\n",
    "        phno.append(temp)\n",
    "\n",
    "    real_phno = set()\n",
    "    for i in phno:\n",
    "        for j in i:\n",
    "            if(len(j)>=10):\n",
    "                real_phno.add(j)\n",
    "        \n",
    "    real_phno = list(real_phno)\n",
    "\n",
    "\n",
    "    final_phno = []\n",
    "    for i in real_phno:\n",
    "        num_count = 0\n",
    "        temp = ''\n",
    "        for j in i:\n",
    "            if j.isdigit() == True or j == 'O' or j == 'i' or j == 'I':\n",
    "                num_count = num_count + 1\n",
    "                if j == 'O':\n",
    "                    temp = temp + '0'\n",
    "                elif j == 'i' or j == 'I':\n",
    "                \ttemp = temp + '1'\n",
    "                else:\n",
    "                    temp = temp + j\n",
    "        if num_count == 10:\n",
    "            final_phno.append(temp)\n",
    "\n",
    "    return final_phno"
   ]
  },
  {
   "cell_type": "code",
   "execution_count": 45,
   "metadata": {},
   "outputs": [],
   "source": [
    "df = pd.read_csv(\"dataset_computers.csv\")\n",
    "#df.head(10)\n"
   ]
  },
  {
   "cell_type": "code",
   "execution_count": 46,
   "metadata": {},
   "outputs": [],
   "source": [
    "\n",
    "data = df.values.tolist()\n",
    "has_phno = []\n",
    "phno = []\n",
    "for i in data:\n",
    "    a = check_phno(i[2])\n",
    "    b = check_phno(i[5])\n",
    "    c = check_phno(i[6])\n",
    "    a1 = ensure_no_phno(i[2])\n",
    "    b1 = ensure_no_phno(i[5])\n",
    "    c1 = ensure_no_phno(i[6])\n",
    "    if a == [] and b == [] and c == []:\n",
    "        has_phno.append('0')\n",
    "        phno.append('-')\n",
    "    else:\n",
    "        has_phno.append('1')\n",
    "        temp = set()\n",
    "        for i in a:\n",
    "            temp.add(i)\n",
    "        for i in b:\n",
    "            temp.add(i)\n",
    "        \n",
    "        for i in c:\n",
    "            temp.add(i)\n",
    "\n",
    "        temp = list(temp)\n",
    "        \n",
    "        temp_str = ''\n",
    "        for i in temp:\n",
    "            temp_str = temp_str + i + ','\n",
    "        \n",
    "        phno.append(temp_str)\n"
   ]
  },
  {
   "cell_type": "code",
   "execution_count": null,
   "metadata": {},
   "outputs": [],
   "source": []
  }
 ],
 "metadata": {
  "kernelspec": {
   "display_name": "Python 3",
   "language": "python",
   "name": "python3"
  },
  "language_info": {
   "codemirror_mode": {
    "name": "ipython",
    "version": 3
   },
   "file_extension": ".py",
   "mimetype": "text/x-python",
   "name": "python",
   "nbconvert_exporter": "python",
   "pygments_lexer": "ipython3",
   "version": "3.6.5"
  }
 },
 "nbformat": 4,
 "nbformat_minor": 2
}
